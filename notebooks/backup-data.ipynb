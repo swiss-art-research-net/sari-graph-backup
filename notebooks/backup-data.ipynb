{
 "cells": [
  {
   "cell_type": "code",
   "execution_count": 1,
   "metadata": {},
   "outputs": [
    {
     "name": "stdout",
     "output_type": "stream",
     "text": [
      "Requirement already satisfied: sparqlwrapper in /Users/fkraeutli/anaconda3/lib/python3.7/site-packages (1.8.5)\r\n",
      "Requirement already satisfied: rdflib>=4.0 in /Users/fkraeutli/anaconda3/lib/python3.7/site-packages (from sparqlwrapper) (5.0.0)\r\n",
      "Requirement already satisfied: pyparsing in /Users/fkraeutli/anaconda3/lib/python3.7/site-packages (from rdflib>=4.0->sparqlwrapper) (2.4.0)\r\n",
      "Requirement already satisfied: six in /Users/fkraeutli/anaconda3/lib/python3.7/site-packages (from rdflib>=4.0->sparqlwrapper) (1.15.0)\r\n",
      "Requirement already satisfied: isodate in /Users/fkraeutli/anaconda3/lib/python3.7/site-packages (from rdflib>=4.0->sparqlwrapper) (0.6.0)\r\n"
     ]
    }
   ],
   "source": [
    "import sys\n",
    "!{sys.executable} -m pip install sparqlwrapper"
   ]
  },
  {
   "cell_type": "code",
   "execution_count": 2,
   "metadata": {},
   "outputs": [],
   "source": [
    "import requests\n",
    "import yaml\n",
    "from string import Template\n",
    "from SPARQLWrapper import SPARQLWrapper, JSON, TURTLE\n",
    "from urllib.parse import quote\n",
    "from os.path import join"
   ]
  },
  {
   "cell_type": "code",
   "execution_count": 3,
   "metadata": {},
   "outputs": [],
   "source": [
    "configFile = '../config/config.yml'"
   ]
  },
  {
   "cell_type": "code",
   "execution_count": 4,
   "metadata": {},
   "outputs": [],
   "source": [
    "with open(configFile, 'r') as f:\n",
    "    config = yaml.safe_load(f)"
   ]
  },
  {
   "cell_type": "code",
   "execution_count": 5,
   "metadata": {},
   "outputs": [],
   "source": [
    "def sparqlResultToDict(results):\n",
    "    rows = []\n",
    "    for result in results[\"results\"][\"bindings\"]:\n",
    "        row = {}\n",
    "        for key in list(result.keys()):\n",
    "            row[key] = result[key][\"value\"]\n",
    "        rows.append(row)\n",
    "    return rows"
   ]
  },
  {
   "cell_type": "code",
   "execution_count": 6,
   "metadata": {},
   "outputs": [],
   "source": [
    "sparql = SPARQLWrapper(config['endpoint'])\n",
    "sparql.setReturnFormat(JSON)"
   ]
  },
  {
   "cell_type": "code",
   "execution_count": 7,
   "metadata": {},
   "outputs": [],
   "source": [
    "sparql.setQuery(config['graphsQuery'])\n",
    "results = sparql.query().convert()"
   ]
  },
  {
   "cell_type": "code",
   "execution_count": 8,
   "metadata": {},
   "outputs": [],
   "source": [
    "graphs = [d['g'] for d in sparqlResultToDict(results)] + config['additionalGraphs']"
   ]
  },
  {
   "cell_type": "code",
   "execution_count": 9,
   "metadata": {},
   "outputs": [],
   "source": [
    "constructTemplate = Template(\"\"\"\n",
    "CONSTRUCT {\n",
    "    ?s ?p ?o .\n",
    "} WHERE {\n",
    "  GRAPH <$graph> {\n",
    "      ?s ?p ?o\n",
    "  }\n",
    "}\n",
    "\"\"\")\n"
   ]
  },
  {
   "cell_type": "code",
   "execution_count": 10,
   "metadata": {},
   "outputs": [],
   "source": [
    "headers = {\n",
    "    \"Accept\": \"application/x-trig\"\n",
    "}\n",
    "\n",
    "queryTemplate = Template(\"\"\"CONSTRUCT {\n",
    "        ?s ?p ?o\n",
    "        } FROM <$graph> WHERE {\n",
    "            ?s ?p ?o .\n",
    "        }\"\"\")\n",
    "\n",
    "for graph in graphs:\n",
    "    data = {\n",
    "        \"query\": queryTemplate.substitute(graph=graph)\n",
    "    }\n",
    "    try:\n",
    "        response = requests.get(config['endpoint'], headers=headers, params=data)\n",
    "    except:\n",
    "        print(\"Could not fetch data\")\n",
    "    if response:\n",
    "        output = response.content.decode().replace(\"{\", \"<\" + graph + \"> {\")\n",
    "        filename = quote(graph, safe='') + '.trig'\n",
    "        with open(join('..', config['output'], filename), 'w') as f:\n",
    "            f.write(output)"
   ]
  },
  {
   "cell_type": "code",
   "execution_count": null,
   "metadata": {},
   "outputs": [],
   "source": []
  }
 ],
 "metadata": {
  "kernelspec": {
   "display_name": "Python 3",
   "language": "python",
   "name": "python3"
  },
  "language_info": {
   "codemirror_mode": {
    "name": "ipython",
    "version": 3
   },
   "file_extension": ".py",
   "mimetype": "text/x-python",
   "name": "python",
   "nbconvert_exporter": "python",
   "pygments_lexer": "ipython3",
   "version": "3.7.3"
  }
 },
 "nbformat": 4,
 "nbformat_minor": 2
}
